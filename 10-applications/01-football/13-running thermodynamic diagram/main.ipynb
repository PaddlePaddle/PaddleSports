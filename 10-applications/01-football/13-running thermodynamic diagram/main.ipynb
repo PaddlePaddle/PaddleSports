{
 "cells": [
  {
   "cell_type": "code",
   "execution_count": null,
   "metadata": {
    "collapsed": false
   },
   "outputs": [
    {
     "name": "stdout",
     "output_type": "stream",
     "text": [
      "Cloning into 'PaddleDetection'...\n",
      "remote: Enumerating objects: 254602, done.\u001b[K\n",
      "remote: Counting objects: 100% (235072/235072), done.\u001b[K\n",
      "remote: Compressing objects: 100% (42683/42683), done.\u001b[K\n",
      "remote: Total 254602 (delta 193658), reused 232734 (delta 191600), pack-reused 19530\u001b[K\n",
      "Receiving objects: 100% (254602/254602), 411.84 MiB | 3.21 MiB/s, done.\n",
      "Resolving deltas: 100% (208207/208207), done.\n",
      "Checking connectivity... done.\n"
     ]
    }
   ],
   "source": [
    "!git clone https://gitee.com/PaddlePaddle/PaddleDetection.git"
   ]
  },
  {
   "cell_type": "code",
   "execution_count": null,
   "metadata": {
    "collapsed": false
   },
   "outputs": [
    {
     "name": "stdout",
     "output_type": "stream",
     "text": [
      "/home/aistudio/PaddleDetection\n",
      "Looking in indexes: https://pypi.tuna.tsinghua.edu.cn/simple\n",
      "Requirement already satisfied: tqdm in /opt/conda/envs/python35-paddle120-env/lib/python3.7/site-packages (from -r requirements.txt (line 1)) (4.64.1)\n",
      "Collecting typeguard\n",
      "  Downloading https://pypi.tuna.tsinghua.edu.cn/packages/9a/bb/d43e5c75054e53efce310e79d63df0ac3f25e34c926be5dffb7d283fb2a8/typeguard-2.13.3-py3-none-any.whl (17 kB)\n",
      "Requirement already satisfied: visualdl>=2.2.0 in /opt/conda/envs/python35-paddle120-env/lib/python3.7/site-packages (from -r requirements.txt (line 3)) (2.4.0)\n",
      "Requirement already satisfied: opencv-python in /opt/conda/envs/python35-paddle120-env/lib/python3.7/site-packages (from -r requirements.txt (line 4)) (4.6.0.66)\n",
      "Requirement already satisfied: PyYAML in /opt/conda/envs/python35-paddle120-env/lib/python3.7/site-packages (from -r requirements.txt (line 5)) (5.1.2)\n",
      "Requirement already satisfied: shapely in /opt/conda/envs/python35-paddle120-env/lib/python3.7/site-packages (from -r requirements.txt (line 6)) (1.8.5.post1)\n",
      "Requirement already satisfied: scipy in /opt/conda/envs/python35-paddle120-env/lib/python3.7/site-packages (from -r requirements.txt (line 7)) (1.6.3)\n",
      "Requirement already satisfied: terminaltables in /opt/conda/envs/python35-paddle120-env/lib/python3.7/site-packages (from -r requirements.txt (line 8)) (3.1.10)\n",
      "Requirement already satisfied: Cython in /opt/conda/envs/python35-paddle120-env/lib/python3.7/site-packages (from -r requirements.txt (line 9)) (0.29)\n",
      "Collecting pycocotools\n",
      "  Downloading https://pypi.tuna.tsinghua.edu.cn/packages/ef/c6/90220be3b39fbc4cbd203775ca47dd8dc97fae06fbd2b500637395621b7c/pycocotools-2.0.6.tar.gz (24 kB)\n",
      "  Installing build dependencies ... \u001b[?25ldone\n",
      "\u001b[?25h  Getting requirements to build wheel ... \u001b[?25ldone\n",
      "\u001b[?25h  Preparing metadata (pyproject.toml) ... \u001b[?25ldone\n",
      "\u001b[?25hRequirement already satisfied: setuptools in /opt/conda/envs/python35-paddle120-env/lib/python3.7/site-packages (from -r requirements.txt (line 11)) (56.2.0)\n",
      "Collecting pyclipper\n",
      "  Downloading https://pypi.tuna.tsinghua.edu.cn/packages/21/b9/f8bd7bb8b04906ac2f93518ae22040c99db9dfc9faf2a29d444c6469b6a3/pyclipper-1.3.0.post4-cp37-cp37m-manylinux_2_5_x86_64.manylinux1_x86_64.whl (604 kB)\n",
      "\u001b[2K     \u001b[90m━━━━━━━━━━━━━━━━━━━━━━━━━━━━━━━━━━━━━━━\u001b[0m \u001b[32m604.2/604.2 kB\u001b[0m \u001b[31m3.4 MB/s\u001b[0m eta \u001b[36m0:00:00\u001b[0ma \u001b[36m0:00:01\u001b[0m\n",
      "\u001b[?25hCollecting lap\n",
      "  Downloading https://pypi.tuna.tsinghua.edu.cn/packages/bf/64/d9fb6a75b15e783952b2fec6970f033462e67db32dc43dfbb404c14e91c2/lap-0.4.0.tar.gz (1.5 MB)\n",
      "\u001b[2K     \u001b[90m━━━━━━━━━━━━━━━━━━━━━━━━━━━━━━━━━━━━━━━━\u001b[0m \u001b[32m1.5/1.5 MB\u001b[0m \u001b[31m4.5 MB/s\u001b[0m eta \u001b[36m0:00:00\u001b[0ma \u001b[36m0:00:01\u001b[0m\n",
      "\u001b[?25h  Preparing metadata (setup.py) ... \u001b[?25ldone\n",
      "\u001b[?25hCollecting motmetrics\n",
      "  Downloading https://pypi.tuna.tsinghua.edu.cn/packages/45/41/b019fe934eb811b9aba9b335f852305b804b9c66f098d7e35c2bdb09d1c8/motmetrics-1.2.5-py3-none-any.whl (161 kB)\n",
      "\u001b[2K     \u001b[90m━━━━━━━━━━━━━━━━━━━━━━━━━━━━━━━━━━━━━\u001b[0m \u001b[32m161.1/161.1 kB\u001b[0m \u001b[31m574.7 kB/s\u001b[0m eta \u001b[36m0:00:00\u001b[0ma \u001b[36m0:00:01\u001b[0m\n",
      "\u001b[?25hRequirement already satisfied: sklearn==0.0 in /opt/conda/envs/python35-paddle120-env/lib/python3.7/site-packages (from -r requirements.txt (line 19)) (0.0)\n",
      "Collecting filterpy\n",
      "  Downloading https://pypi.tuna.tsinghua.edu.cn/packages/f6/1d/ac8914360460fafa1990890259b7fa5ef7ba4cd59014e782e4ab3ab144d8/filterpy-1.4.5.zip (177 kB)\n",
      "\u001b[2K     \u001b[90m━━━━━━━━━━━━━━━━━━━━━━━━━━━━━━━━━━━━━━━\u001b[0m \u001b[32m178.0/178.0 kB\u001b[0m \u001b[31m4.3 MB/s\u001b[0m eta \u001b[36m0:00:00\u001b[0ma \u001b[36m0:00:01\u001b[0m\n",
      "\u001b[?25h  Preparing metadata (setup.py) ... \u001b[?25ldone\n",
      "\u001b[?25hRequirement already satisfied: scikit-learn in /opt/conda/envs/python35-paddle120-env/lib/python3.7/site-packages (from sklearn==0.0->-r requirements.txt (line 19)) (0.24.2)\n",
      "Requirement already satisfied: matplotlib in /opt/conda/envs/python35-paddle120-env/lib/python3.7/site-packages (from visualdl>=2.2.0->-r requirements.txt (line 3)) (2.2.3)\n",
      "Requirement already satisfied: Pillow>=7.0.0 in /opt/conda/envs/python35-paddle120-env/lib/python3.7/site-packages (from visualdl>=2.2.0->-r requirements.txt (line 3)) (8.2.0)\n",
      "Requirement already satisfied: six>=1.14.0 in /opt/conda/envs/python35-paddle120-env/lib/python3.7/site-packages (from visualdl>=2.2.0->-r requirements.txt (line 3)) (1.16.0)\n",
      "Requirement already satisfied: protobuf>=3.11.0 in /opt/conda/envs/python35-paddle120-env/lib/python3.7/site-packages (from visualdl>=2.2.0->-r requirements.txt (line 3)) (3.20.0)\n",
      "Requirement already satisfied: flask>=1.1.1 in /opt/conda/envs/python35-paddle120-env/lib/python3.7/site-packages (from visualdl>=2.2.0->-r requirements.txt (line 3)) (1.1.1)\n",
      "Requirement already satisfied: pandas in /opt/conda/envs/python35-paddle120-env/lib/python3.7/site-packages (from visualdl>=2.2.0->-r requirements.txt (line 3)) (1.1.5)\n",
      "Requirement already satisfied: numpy in /opt/conda/envs/python35-paddle120-env/lib/python3.7/site-packages (from visualdl>=2.2.0->-r requirements.txt (line 3)) (1.19.5)\n",
      "Requirement already satisfied: bce-python-sdk in /opt/conda/envs/python35-paddle120-env/lib/python3.7/site-packages (from visualdl>=2.2.0->-r requirements.txt (line 3)) (0.8.53)\n",
      "Requirement already satisfied: requests in /opt/conda/envs/python35-paddle120-env/lib/python3.7/site-packages (from visualdl>=2.2.0->-r requirements.txt (line 3)) (2.24.0)\n",
      "Requirement already satisfied: Flask-Babel>=1.0.0 in /opt/conda/envs/python35-paddle120-env/lib/python3.7/site-packages (from visualdl>=2.2.0->-r requirements.txt (line 3)) (1.0.0)\n",
      "Collecting xmltodict>=0.12.0\n",
      "  Downloading https://pypi.tuna.tsinghua.edu.cn/packages/94/db/fd0326e331726f07ff7f40675cd86aa804bfd2e5016c727fa761c934990e/xmltodict-0.13.0-py2.py3-none-any.whl (10.0 kB)\n",
      "Requirement already satisfied: Jinja2>=2.10.1 in /opt/conda/envs/python35-paddle120-env/lib/python3.7/site-packages (from flask>=1.1.1->visualdl>=2.2.0->-r requirements.txt (line 3)) (3.0.0)\n",
      "Requirement already satisfied: click>=5.1 in /opt/conda/envs/python35-paddle120-env/lib/python3.7/site-packages (from flask>=1.1.1->visualdl>=2.2.0->-r requirements.txt (line 3)) (8.0.4)\n",
      "Requirement already satisfied: itsdangerous>=0.24 in /opt/conda/envs/python35-paddle120-env/lib/python3.7/site-packages (from flask>=1.1.1->visualdl>=2.2.0->-r requirements.txt (line 3)) (1.1.0)\n",
      "Requirement already satisfied: Werkzeug>=0.15 in /opt/conda/envs/python35-paddle120-env/lib/python3.7/site-packages (from flask>=1.1.1->visualdl>=2.2.0->-r requirements.txt (line 3)) (0.16.0)\n",
      "Requirement already satisfied: pytz in /opt/conda/envs/python35-paddle120-env/lib/python3.7/site-packages (from Flask-Babel>=1.0.0->visualdl>=2.2.0->-r requirements.txt (line 3)) (2019.3)\n",
      "Requirement already satisfied: Babel>=2.3 in /opt/conda/envs/python35-paddle120-env/lib/python3.7/site-packages (from Flask-Babel>=1.0.0->visualdl>=2.2.0->-r requirements.txt (line 3)) (2.8.0)\n",
      "Requirement already satisfied: cycler>=0.10 in /opt/conda/envs/python35-paddle120-env/lib/python3.7/site-packages (from matplotlib->visualdl>=2.2.0->-r requirements.txt (line 3)) (0.10.0)\n",
      "Requirement already satisfied: python-dateutil>=2.1 in /opt/conda/envs/python35-paddle120-env/lib/python3.7/site-packages (from matplotlib->visualdl>=2.2.0->-r requirements.txt (line 3)) (2.8.2)\n",
      "Requirement already satisfied: pyparsing!=2.0.4,!=2.1.2,!=2.1.6,>=2.0.1 in /opt/conda/envs/python35-paddle120-env/lib/python3.7/site-packages (from matplotlib->visualdl>=2.2.0->-r requirements.txt (line 3)) (3.0.9)\n",
      "Requirement already satisfied: kiwisolver>=1.0.1 in /opt/conda/envs/python35-paddle120-env/lib/python3.7/site-packages (from matplotlib->visualdl>=2.2.0->-r requirements.txt (line 3)) (1.1.0)\n",
      "Requirement already satisfied: pycryptodome>=3.8.0 in /opt/conda/envs/python35-paddle120-env/lib/python3.7/site-packages (from bce-python-sdk->visualdl>=2.2.0->-r requirements.txt (line 3)) (3.9.9)\n",
      "Requirement already satisfied: future>=0.6.0 in /opt/conda/envs/python35-paddle120-env/lib/python3.7/site-packages (from bce-python-sdk->visualdl>=2.2.0->-r requirements.txt (line 3)) (0.18.0)\n",
      "Requirement already satisfied: chardet<4,>=3.0.2 in /opt/conda/envs/python35-paddle120-env/lib/python3.7/site-packages (from requests->visualdl>=2.2.0->-r requirements.txt (line 3)) (3.0.4)\n",
      "Requirement already satisfied: urllib3!=1.25.0,!=1.25.1,<1.26,>=1.21.1 in /opt/conda/envs/python35-paddle120-env/lib/python3.7/site-packages (from requests->visualdl>=2.2.0->-r requirements.txt (line 3)) (1.25.6)\n",
      "Requirement already satisfied: certifi>=2017.4.17 in /opt/conda/envs/python35-paddle120-env/lib/python3.7/site-packages (from requests->visualdl>=2.2.0->-r requirements.txt (line 3)) (2019.9.11)\n",
      "Requirement already satisfied: idna<3,>=2.5 in /opt/conda/envs/python35-paddle120-env/lib/python3.7/site-packages (from requests->visualdl>=2.2.0->-r requirements.txt (line 3)) (2.8)\n",
      "Requirement already satisfied: joblib>=0.11 in /opt/conda/envs/python35-paddle120-env/lib/python3.7/site-packages (from scikit-learn->sklearn==0.0->-r requirements.txt (line 19)) (0.14.1)\n",
      "Requirement already satisfied: threadpoolctl>=2.0.0 in /opt/conda/envs/python35-paddle120-env/lib/python3.7/site-packages (from scikit-learn->sklearn==0.0->-r requirements.txt (line 19)) (2.1.0)\n",
      "Requirement already satisfied: importlib-metadata in /opt/conda/envs/python35-paddle120-env/lib/python3.7/site-packages (from click>=5.1->flask>=1.1.1->visualdl>=2.2.0->-r requirements.txt (line 3)) (4.2.0)\n",
      "Requirement already satisfied: MarkupSafe>=2.0.0rc2 in /opt/conda/envs/python35-paddle120-env/lib/python3.7/site-packages (from Jinja2>=2.10.1->flask>=1.1.1->visualdl>=2.2.0->-r requirements.txt (line 3)) (2.0.1)\n",
      "Requirement already satisfied: zipp>=0.5 in /opt/conda/envs/python35-paddle120-env/lib/python3.7/site-packages (from importlib-metadata->click>=5.1->flask>=1.1.1->visualdl>=2.2.0->-r requirements.txt (line 3)) (3.8.1)\n",
      "Requirement already satisfied: typing-extensions>=3.6.4 in /opt/conda/envs/python35-paddle120-env/lib/python3.7/site-packages (from importlib-metadata->click>=5.1->flask>=1.1.1->visualdl>=2.2.0->-r requirements.txt (line 3)) (4.3.0)\n",
      "Building wheels for collected packages: pycocotools, lap, filterpy\n",
      "  Building wheel for pycocotools (pyproject.toml) ... \u001b[?25ldone\n",
      "\u001b[?25h  Created wheel for pycocotools: filename=pycocotools-2.0.6-cp37-cp37m-linux_x86_64.whl size=275100 sha256=8be8643bbbe5a4c3444ebd97e9eceb422fb252eaf4e321dbd65ad1e4df35c233\n",
      "  Stored in directory: /home/aistudio/.cache/pip/wheels/f8/94/70/046149e666bd5812b7de6b87a28dcef238f7162f4108e0b3d8\n",
      "  Building wheel for lap (setup.py) ... \u001b[?25ldone\n",
      "\u001b[?25h  Created wheel for lap: filename=lap-0.4.0-cp37-cp37m-linux_x86_64.whl size=1593867 sha256=eff1567985b80244fbfbc5c8fcce38a177bf2e0b4e16f0214fb08905d4cd72ca\n",
      "  Stored in directory: /home/aistudio/.cache/pip/wheels/5c/d0/d2/e331d17a999666b1e2eb99743cfa1742629f9d26c55c657001\n",
      "  Building wheel for filterpy (setup.py) ... \u001b[?25ldone\n",
      "\u001b[?25h  Created wheel for filterpy: filename=filterpy-1.4.5-py3-none-any.whl size=110451 sha256=e37583cb92d1ef7fadb2e5c98628b89c8467c7512c62bdc9ae19a6aa7a6e8363\n",
      "  Stored in directory: /home/aistudio/.cache/pip/wheels/60/79/e4/a6df5e482863f893b95d3e95627d744cb2e57b26b44ec20b22\n",
      "Successfully built pycocotools lap filterpy\n",
      "Installing collected packages: pyclipper, lap, xmltodict, typeguard, pycocotools, motmetrics, filterpy\n",
      "Successfully installed filterpy-1.4.5 lap-0.4.0 motmetrics-1.2.5 pyclipper-1.3.0.post4 pycocotools-2.0.6 typeguard-2.13.3 xmltodict-0.13.0\n",
      "\n",
      "\u001b[1m[\u001b[0m\u001b[34;49mnotice\u001b[0m\u001b[1;39;49m]\u001b[0m\u001b[39;49m A new release of pip available: \u001b[0m\u001b[31;49m22.1.2\u001b[0m\u001b[39;49m -> \u001b[0m\u001b[32;49m22.3.1\u001b[0m\n",
      "\u001b[1m[\u001b[0m\u001b[34;49mnotice\u001b[0m\u001b[1;39;49m]\u001b[0m\u001b[39;49m To update, run: \u001b[0m\u001b[32;49mpip install --upgrade pip\u001b[0m\n"
     ]
    }
   ],
   "source": [
    "# 安装其他依赖\n",
    "%cd PaddleDetection\n",
    "!pip install -r requirements.txt"
   ]
  },
  {
   "cell_type": "code",
   "execution_count": null,
   "metadata": {
    "collapsed": false
   },
   "outputs": [],
   "source": [
    "# 编译安装paddledet\n",
    "python setup.py install"
   ]
  },
  {
   "cell_type": "code",
   "execution_count": null,
   "metadata": {
    "collapsed": false
   },
   "outputs": [
    {
     "name": "stdout",
     "output_type": "stream",
     "text": [
      "deploy/pipeline/pipeline.py:24: DeprecationWarning: Using or importing the ABCs from 'collections' instead of from 'collections.abc' is deprecated, and in 3.8 it will stop working\n",
      "  from collections import Sequence, defaultdict\n",
      "-----------  Running Arguments -----------\n",
      "ATTR:\n",
      "  batch_size: 8\n",
      "  enable: false\n",
      "  model_dir: https://bj.bcebos.com/v1/paddledet/models/pipeline/PPLCNet_x1_0_person_attribute_945_infer.zip\n",
      "DET:\n",
      "  batch_size: 1\n",
      "  model_dir: https://bj.bcebos.com/v1/paddledet/models/pipeline/mot_ppyoloe_l_36e_pipeline.zip\n",
      "ID_BASED_CLSACTION:\n",
      "  batch_size: 8\n",
      "  display_frames: 80\n",
      "  enable: false\n",
      "  model_dir: https://bj.bcebos.com/v1/paddledet/models/pipeline/PPHGNet_tiny_calling_halfbody.zip\n",
      "  skip_frame_num: 2\n",
      "  threshold: 0.8\n",
      "ID_BASED_DETACTION:\n",
      "  batch_size: 8\n",
      "  display_frames: 80\n",
      "  enable: false\n",
      "  model_dir: https://bj.bcebos.com/v1/paddledet/models/pipeline/ppyoloe_crn_s_80e_smoking_visdrone.zip\n",
      "  skip_frame_num: 2\n",
      "  threshold: 0.6\n",
      "KPT:\n",
      "  batch_size: 8\n",
      "  model_dir: https://bj.bcebos.com/v1/paddledet/models/pipeline/dark_hrnet_w32_256x192.zip\n",
      "MOT:\n",
      "  batch_size: 1\n",
      "  enable: false\n",
      "  model_dir: https://bj.bcebos.com/v1/paddledet/models/pipeline/mot_ppyoloe_l_36e_pipeline.zip\n",
      "  skip_frame_num: -1\n",
      "  tracker_config: deploy/pipeline/config/tracker_config.yml\n",
      "REID:\n",
      "  batch_size: 16\n",
      "  enable: false\n",
      "  model_dir: https://bj.bcebos.com/v1/paddledet/models/pipeline/reid_model.zip\n",
      "SKELETON_ACTION:\n",
      "  batch_size: 1\n",
      "  coord_size:\n",
      "  - 384\n",
      "  - 512\n",
      "  display_frames: 80\n",
      "  enable: false\n",
      "  max_frames: 50\n",
      "  model_dir: https://bj.bcebos.com/v1/paddledet/models/pipeline/STGCN.zip\n",
      "VIDEO_ACTION:\n",
      "  batch_size: 1\n",
      "  enable: false\n",
      "  frame_len: 8\n",
      "  model_dir: https://videotag.bj.bcebos.com/PaddleVideo-release2.3/ppTSM_fight.zip\n",
      "  sample_freq: 7\n",
      "  short_size: 340\n",
      "  target_size: 320\n",
      "attr_thresh: 0.5\n",
      "crop_thresh: 0.5\n",
      "kpt_thresh: 0.2\n",
      "visual: true\n",
      "warmup_frame: 50\n",
      "\n",
      "------------------------------------------\n",
      "100%|████████████████████████████████| 186349/186349 [00:11<00:00, 16468.36KB/s]\n",
      "DET  model dir:  /home/aistudio/.cache/paddle/infer_weights/mot_ppyoloe_l_36e_pipeline\n",
      "mot_model_dir model_dir:  /home/aistudio/.cache/paddle/infer_weights/mot_ppyoloe_l_36e_pipeline\n",
      "100%|████████████████████████████████| 103872/103872 [00:05<00:00, 20483.76KB/s]\n",
      "KPT  model dir:  /home/aistudio/.cache/paddle/infer_weights/dark_hrnet_w32_256x192\n",
      "video fps: 30, frame_count: 143\n",
      "Thread: 0; frame id: 0\n",
      "Thread: 0; frame id: 10\n",
      "Thread: 0; frame id: 20\n",
      "Thread: 0; frame id: 30\n",
      "Thread: 0; frame id: 40\n",
      "Thread: 0; frame id: 50\n",
      "Thread: 0; frame id: 60\n",
      "Thread: 0; frame id: 70\n",
      "Thread: 0; frame id: 80\n",
      "Thread: 0; frame id: 90\n",
      "Thread: 0; frame id: 100\n",
      "Thread: 0; frame id: 110\n",
      "Thread: 0; frame id: 120\n",
      "Thread: 0; frame id: 130\n",
      "Thread: 0; frame id: 140\n",
      "save result to output/test.mp4\n",
      "------------------ Inference Time Info ----------------------\n",
      "total_time(ms): 1.2, img_num: 92\n",
      "average latency time(ms): 0.01, QPS: 76666.666667\n"
     ]
    }
   ],
   "source": [
    "!python deploy/pipeline/pipeline.py --config deploy/pipeline/config/infer_cfg_pphuman.yml --video_file=test.mp4 --device=gpu  \r\n",
    "# --image_file=test_image.jpg"
   ]
  },
  {
   "cell_type": "code",
   "execution_count": null,
   "metadata": {
    "collapsed": false
   },
   "outputs": [
    {
     "name": "stdout",
     "output_type": "stream",
     "text": [
      "Warning: import ppdet from source directory without installing, run 'python setup.py install' to install ppdet firstly\n",
      "W1123 10:08:36.481734  1035 gpu_resources.cc:61] Please NOTE: device: 0, GPU Compute Capability: 7.0, Driver API Version: 11.2, Runtime API Version: 11.2\n",
      "W1123 10:08:36.486488  1035 gpu_resources.cc:91] device: 0, cuDNN Version: 8.2.\n",
      "[11/23 10:08:38] ppdet.utils.checkpoint INFO: Finish loading model weights: /home/aistudio/.cache/paddle/weights/ppyoloe_plus_crn_l_80e_coco.pdparams\n",
      "[11/23 10:08:38] ppdet.data.source.category WARNING: anno_file 'dataset/coco/annotations/instances_val2017.json' is None or not set or not exist, please recheck TrainDataset/EvalDataset/TestDataset.anno_path, otherwise the default categories will be used by metric_type.\n",
      "[11/23 10:08:38] ppdet.data.source.category WARNING: metric_type: COCO, load default categories of COCO.\n",
      "100%|█████████████████████████████████████████████| 1/1 [00:01<00:00,  1.59s/it]\n",
      "[11/23 10:08:40] ppdet.engine INFO: Detection bbox results save in output/test.jpg\n"
     ]
    }
   ],
   "source": [
    "!CUDA_VISIBLE_DEVICES=0 \r\n",
    "!python tools/infer.py -c configs/ppyoloe/ppyoloe_plus_crn_l_80e_coco.yml -o weights=https://paddledet.bj.bcebos.com/models/ppyoloe_plus_crn_l_80e_coco.pdparams --infer_img=test.jpg --draw_threshold=0.4"
   ]
  },
  {
   "cell_type": "code",
   "execution_count": null,
   "metadata": {
    "collapsed": false
   },
   "outputs": [],
   "source": [
    "import cv2"
   ]
  },
  {
   "cell_type": "code",
   "execution_count": null,
   "metadata": {
    "collapsed": false
   },
   "outputs": [
    {
     "name": "stdout",
     "output_type": "stream",
     "text": [
      "143\n"
     ]
    }
   ],
   "source": [
    "# 将视频逐帧读取出来\r\n",
    "def readtest():\r\n",
    "    videoname = 'test.mp4'\r\n",
    "    i = 0\r\n",
    "    capture = cv2.VideoCapture(videoname )\r\n",
    "    if capture.isOpened():\r\n",
    "        while True:\r\n",
    "            ret,img=capture.read() # img 就是一帧图片            \r\n",
    "            # 可以用 cv2.imshow() 查看这一帧，也可以逐帧保存\r\n",
    "            if not ret:break # 当获取完最后一帧就结束\r\n",
    "            cv2.imwrite(\"test/%i.jpg\" % i, img)\r\n",
    "            i += 1\r\n",
    "    else:\r\n",
    "        print('视频打开失败！')\r\n",
    "    print(i)\r\n",
    "readtest()\r\n"
   ]
  },
  {
   "cell_type": "code",
   "execution_count": null,
   "metadata": {
    "collapsed": false
   },
   "outputs": [
    {
     "name": "stdout",
     "output_type": "stream",
     "text": [
      "Warning: import ppdet from source directory without installing, run 'python setup.py install' to install ppdet firstly\n",
      "W1123 14:50:39.928607 64299 gpu_resources.cc:61] Please NOTE: device: 0, GPU Compute Capability: 7.0, Driver API Version: 11.2, Runtime API Version: 11.2\n",
      "W1123 14:50:39.933761 64299 gpu_resources.cc:91] device: 0, cuDNN Version: 8.2.\n",
      "[11/23 14:50:42] ppdet.utils.checkpoint INFO: Finish loading model weights: /home/aistudio/.cache/paddle/weights/ppyoloe_plus_crn_l_80e_coco.pdparams\n",
      "[11/23 14:50:42] ppdet.data.source.category WARNING: anno_file 'dataset/coco/annotations/instances_val2017.json' is None or not set or not exist, please recheck TrainDataset/EvalDataset/TestDataset.anno_path, otherwise the default categories will be used by metric_type.\n",
      "[11/23 14:50:42] ppdet.data.source.category WARNING: metric_type: COCO, load default categories of COCO.\n",
      "[11/23 14:50:42] ppdet.data.source.category WARNING: anno_file 'dataset/coco/annotations/instances_val2017.json' is None or not set or not exist, please recheck TrainDataset/EvalDataset/TestDataset.anno_path, otherwise the default categories will be used by metric_type.\n",
      "[11/23 14:50:42] ppdet.data.source.category WARNING: metric_type: COCO, load default categories of COCO.\n",
      "100%|█████████████████████████████████████████| 143/143 [00:16<00:00,  8.48it/s]\n",
      "[11/23 14:50:59] ppdet.metrics.metrics INFO: The bbox result is saved to bbox.json.\n",
      "[11/23 14:50:59] ppdet.metrics.metrics INFO: The bbox result is saved to output/bbox.json and do not evaluate the mAP.\n",
      "[11/23 14:50:59] ppdet.engine INFO: Detection bbox results save in output/0.jpg\n",
      "[11/23 14:50:59] ppdet.engine INFO: Detection bbox results save in output/1.jpg\n",
      "[11/23 14:50:59] ppdet.engine INFO: Detection bbox results save in output/2.jpg\n",
      "[11/23 14:50:59] ppdet.engine INFO: Detection bbox results save in output/3.jpg\n",
      "[11/23 14:51:00] ppdet.engine INFO: Detection bbox results save in output/4.jpg\n",
      "[11/23 14:51:00] ppdet.engine INFO: Detection bbox results save in output/5.jpg\n",
      "[11/23 14:51:00] ppdet.engine INFO: Detection bbox results save in output/6.jpg\n",
      "[11/23 14:51:00] ppdet.engine INFO: Detection bbox results save in output/7.jpg\n",
      "[11/23 14:51:00] ppdet.engine INFO: Detection bbox results save in output/8.jpg\n",
      "[11/23 14:51:00] ppdet.engine INFO: Detection bbox results save in output/9.jpg\n",
      "[11/23 14:51:00] ppdet.engine INFO: Detection bbox results save in output/10.jpg\n",
      "[11/23 14:51:00] ppdet.engine INFO: Detection bbox results save in output/11.jpg\n",
      "[11/23 14:51:00] ppdet.engine INFO: Detection bbox results save in output/12.jpg\n",
      "[11/23 14:51:00] ppdet.engine INFO: Detection bbox results save in output/13.jpg\n",
      "[11/23 14:51:00] ppdet.engine INFO: Detection bbox results save in output/14.jpg\n",
      "[11/23 14:51:00] ppdet.engine INFO: Detection bbox results save in output/15.jpg\n",
      "[11/23 14:51:00] ppdet.engine INFO: Detection bbox results save in output/16.jpg\n",
      "[11/23 14:51:00] ppdet.engine INFO: Detection bbox results save in output/17.jpg\n",
      "[11/23 14:51:00] ppdet.engine INFO: Detection bbox results save in output/18.jpg\n",
      "[11/23 14:51:00] ppdet.engine INFO: Detection bbox results save in output/19.jpg\n",
      "[11/23 14:51:00] ppdet.engine INFO: Detection bbox results save in output/20.jpg\n",
      "[11/23 14:51:00] ppdet.engine INFO: Detection bbox results save in output/21.jpg\n",
      "[11/23 14:51:00] ppdet.engine INFO: Detection bbox results save in output/22.jpg\n",
      "[11/23 14:51:00] ppdet.engine INFO: Detection bbox results save in output/23.jpg\n",
      "[11/23 14:51:00] ppdet.engine INFO: Detection bbox results save in output/24.jpg\n",
      "[11/23 14:51:00] ppdet.engine INFO: Detection bbox results save in output/25.jpg\n",
      "[11/23 14:51:01] ppdet.engine INFO: Detection bbox results save in output/26.jpg\n",
      "[11/23 14:51:01] ppdet.engine INFO: Detection bbox results save in output/27.jpg\n",
      "[11/23 14:51:01] ppdet.engine INFO: Detection bbox results save in output/28.jpg\n",
      "[11/23 14:51:01] ppdet.engine INFO: Detection bbox results save in output/29.jpg\n",
      "[11/23 14:51:01] ppdet.engine INFO: Detection bbox results save in output/30.jpg\n",
      "[11/23 14:51:01] ppdet.engine INFO: Detection bbox results save in output/31.jpg\n",
      "[11/23 14:51:01] ppdet.engine INFO: Detection bbox results save in output/32.jpg\n",
      "[11/23 14:51:01] ppdet.engine INFO: Detection bbox results save in output/33.jpg\n",
      "[11/23 14:51:01] ppdet.engine INFO: Detection bbox results save in output/34.jpg\n",
      "[11/23 14:51:01] ppdet.engine INFO: Detection bbox results save in output/35.jpg\n",
      "[11/23 14:51:01] ppdet.engine INFO: Detection bbox results save in output/36.jpg\n",
      "[11/23 14:51:01] ppdet.engine INFO: Detection bbox results save in output/37.jpg\n",
      "[11/23 14:51:01] ppdet.engine INFO: Detection bbox results save in output/38.jpg\n",
      "[11/23 14:51:01] ppdet.engine INFO: Detection bbox results save in output/39.jpg\n",
      "[11/23 14:51:01] ppdet.engine INFO: Detection bbox results save in output/40.jpg\n",
      "[11/23 14:51:01] ppdet.engine INFO: Detection bbox results save in output/41.jpg\n",
      "[11/23 14:51:01] ppdet.engine INFO: Detection bbox results save in output/42.jpg\n",
      "[11/23 14:51:01] ppdet.engine INFO: Detection bbox results save in output/43.jpg\n",
      "[11/23 14:51:01] ppdet.engine INFO: Detection bbox results save in output/44.jpg\n",
      "[11/23 14:51:01] ppdet.engine INFO: Detection bbox results save in output/45.jpg\n",
      "[11/23 14:51:01] ppdet.engine INFO: Detection bbox results save in output/46.jpg\n",
      "[11/23 14:51:02] ppdet.engine INFO: Detection bbox results save in output/47.jpg\n",
      "[11/23 14:51:02] ppdet.engine INFO: Detection bbox results save in output/48.jpg\n",
      "[11/23 14:51:02] ppdet.engine INFO: Detection bbox results save in output/49.jpg\n",
      "[11/23 14:51:02] ppdet.engine INFO: Detection bbox results save in output/50.jpg\n",
      "[11/23 14:51:02] ppdet.engine INFO: Detection bbox results save in output/51.jpg\n",
      "[11/23 14:51:02] ppdet.engine INFO: Detection bbox results save in output/52.jpg\n",
      "[11/23 14:51:02] ppdet.engine INFO: Detection bbox results save in output/53.jpg\n",
      "[11/23 14:51:02] ppdet.engine INFO: Detection bbox results save in output/54.jpg\n",
      "[11/23 14:51:02] ppdet.engine INFO: Detection bbox results save in output/55.jpg\n",
      "[11/23 14:51:02] ppdet.engine INFO: Detection bbox results save in output/56.jpg\n",
      "[11/23 14:51:02] ppdet.engine INFO: Detection bbox results save in output/57.jpg\n",
      "[11/23 14:51:02] ppdet.engine INFO: Detection bbox results save in output/58.jpg\n",
      "[11/23 14:51:02] ppdet.engine INFO: Detection bbox results save in output/59.jpg\n",
      "[11/23 14:51:02] ppdet.engine INFO: Detection bbox results save in output/60.jpg\n",
      "[11/23 14:51:02] ppdet.engine INFO: Detection bbox results save in output/61.jpg\n",
      "[11/23 14:51:02] ppdet.engine INFO: Detection bbox results save in output/62.jpg\n",
      "[11/23 14:51:02] ppdet.engine INFO: Detection bbox results save in output/63.jpg\n",
      "[11/23 14:51:02] ppdet.engine INFO: Detection bbox results save in output/64.jpg\n",
      "[11/23 14:51:02] ppdet.engine INFO: Detection bbox results save in output/65.jpg\n",
      "[11/23 14:51:02] ppdet.engine INFO: Detection bbox results save in output/66.jpg\n",
      "[11/23 14:51:02] ppdet.engine INFO: Detection bbox results save in output/67.jpg\n",
      "[11/23 14:51:03] ppdet.engine INFO: Detection bbox results save in output/68.jpg\n",
      "[11/23 14:51:03] ppdet.engine INFO: Detection bbox results save in output/69.jpg\n",
      "[11/23 14:51:03] ppdet.engine INFO: Detection bbox results save in output/70.jpg\n",
      "[11/23 14:51:03] ppdet.engine INFO: Detection bbox results save in output/71.jpg\n",
      "[11/23 14:51:03] ppdet.engine INFO: Detection bbox results save in output/72.jpg\n",
      "[11/23 14:51:03] ppdet.engine INFO: Detection bbox results save in output/73.jpg\n",
      "[11/23 14:51:03] ppdet.engine INFO: Detection bbox results save in output/74.jpg\n",
      "[11/23 14:51:03] ppdet.engine INFO: Detection bbox results save in output/75.jpg\n",
      "[11/23 14:51:03] ppdet.engine INFO: Detection bbox results save in output/76.jpg\n",
      "[11/23 14:51:03] ppdet.engine INFO: Detection bbox results save in output/77.jpg\n",
      "[11/23 14:51:03] ppdet.engine INFO: Detection bbox results save in output/78.jpg\n",
      "[11/23 14:51:03] ppdet.engine INFO: Detection bbox results save in output/79.jpg\n",
      "[11/23 14:51:03] ppdet.engine INFO: Detection bbox results save in output/80.jpg\n",
      "[11/23 14:51:03] ppdet.engine INFO: Detection bbox results save in output/81.jpg\n",
      "[11/23 14:51:03] ppdet.engine INFO: Detection bbox results save in output/82.jpg\n",
      "[11/23 14:51:03] ppdet.engine INFO: Detection bbox results save in output/83.jpg\n",
      "[11/23 14:51:03] ppdet.engine INFO: Detection bbox results save in output/84.jpg\n",
      "[11/23 14:51:03] ppdet.engine INFO: Detection bbox results save in output/85.jpg\n",
      "[11/23 14:51:03] ppdet.engine INFO: Detection bbox results save in output/86.jpg\n",
      "[11/23 14:51:03] ppdet.engine INFO: Detection bbox results save in output/87.jpg\n",
      "[11/23 14:51:03] ppdet.engine INFO: Detection bbox results save in output/88.jpg\n",
      "[11/23 14:51:03] ppdet.engine INFO: Detection bbox results save in output/89.jpg\n",
      "[11/23 14:51:04] ppdet.engine INFO: Detection bbox results save in output/90.jpg\n",
      "[11/23 14:51:04] ppdet.engine INFO: Detection bbox results save in output/91.jpg\n",
      "[11/23 14:51:04] ppdet.engine INFO: Detection bbox results save in output/92.jpg\n",
      "[11/23 14:51:04] ppdet.engine INFO: Detection bbox results save in output/93.jpg\n",
      "[11/23 14:51:04] ppdet.engine INFO: Detection bbox results save in output/94.jpg\n",
      "[11/23 14:51:04] ppdet.engine INFO: Detection bbox results save in output/95.jpg\n",
      "[11/23 14:51:04] ppdet.engine INFO: Detection bbox results save in output/96.jpg\n",
      "[11/23 14:51:04] ppdet.engine INFO: Detection bbox results save in output/97.jpg\n",
      "[11/23 14:51:04] ppdet.engine INFO: Detection bbox results save in output/98.jpg\n",
      "[11/23 14:51:04] ppdet.engine INFO: Detection bbox results save in output/99.jpg\n",
      "[11/23 14:51:04] ppdet.engine INFO: Detection bbox results save in output/100.jpg\n",
      "[11/23 14:51:04] ppdet.engine INFO: Detection bbox results save in output/101.jpg\n",
      "[11/23 14:51:04] ppdet.engine INFO: Detection bbox results save in output/102.jpg\n",
      "[11/23 14:51:04] ppdet.engine INFO: Detection bbox results save in output/103.jpg\n",
      "[11/23 14:51:04] ppdet.engine INFO: Detection bbox results save in output/104.jpg\n",
      "[11/23 14:51:04] ppdet.engine INFO: Detection bbox results save in output/105.jpg\n",
      "[11/23 14:51:04] ppdet.engine INFO: Detection bbox results save in output/106.jpg\n",
      "[11/23 14:51:04] ppdet.engine INFO: Detection bbox results save in output/107.jpg\n",
      "[11/23 14:51:04] ppdet.engine INFO: Detection bbox results save in output/108.jpg\n",
      "[11/23 14:51:04] ppdet.engine INFO: Detection bbox results save in output/109.jpg\n",
      "[11/23 14:51:04] ppdet.engine INFO: Detection bbox results save in output/110.jpg\n",
      "[11/23 14:51:05] ppdet.engine INFO: Detection bbox results save in output/111.jpg\n",
      "[11/23 14:51:05] ppdet.engine INFO: Detection bbox results save in output/112.jpg\n",
      "[11/23 14:51:05] ppdet.engine INFO: Detection bbox results save in output/113.jpg\n",
      "[11/23 14:51:05] ppdet.engine INFO: Detection bbox results save in output/114.jpg\n",
      "[11/23 14:51:05] ppdet.engine INFO: Detection bbox results save in output/115.jpg\n",
      "[11/23 14:51:05] ppdet.engine INFO: Detection bbox results save in output/116.jpg\n",
      "[11/23 14:51:05] ppdet.engine INFO: Detection bbox results save in output/117.jpg\n",
      "[11/23 14:51:05] ppdet.engine INFO: Detection bbox results save in output/118.jpg\n",
      "[11/23 14:51:05] ppdet.engine INFO: Detection bbox results save in output/119.jpg\n",
      "[11/23 14:51:05] ppdet.engine INFO: Detection bbox results save in output/120.jpg\n",
      "[11/23 14:51:05] ppdet.engine INFO: Detection bbox results save in output/121.jpg\n",
      "[11/23 14:51:05] ppdet.engine INFO: Detection bbox results save in output/122.jpg\n",
      "[11/23 14:51:05] ppdet.engine INFO: Detection bbox results save in output/123.jpg\n",
      "[11/23 14:51:05] ppdet.engine INFO: Detection bbox results save in output/124.jpg\n",
      "[11/23 14:51:05] ppdet.engine INFO: Detection bbox results save in output/125.jpg\n",
      "[11/23 14:51:05] ppdet.engine INFO: Detection bbox results save in output/126.jpg\n",
      "[11/23 14:51:05] ppdet.engine INFO: Detection bbox results save in output/127.jpg\n",
      "[11/23 14:51:05] ppdet.engine INFO: Detection bbox results save in output/128.jpg\n",
      "[11/23 14:51:05] ppdet.engine INFO: Detection bbox results save in output/129.jpg\n",
      "[11/23 14:51:05] ppdet.engine INFO: Detection bbox results save in output/130.jpg\n",
      "[11/23 14:51:05] ppdet.engine INFO: Detection bbox results save in output/131.jpg\n",
      "[11/23 14:51:06] ppdet.engine INFO: Detection bbox results save in output/132.jpg\n",
      "[11/23 14:51:06] ppdet.engine INFO: Detection bbox results save in output/133.jpg\n",
      "[11/23 14:51:06] ppdet.engine INFO: Detection bbox results save in output/134.jpg\n",
      "[11/23 14:51:06] ppdet.engine INFO: Detection bbox results save in output/135.jpg\n",
      "[11/23 14:51:06] ppdet.engine INFO: Detection bbox results save in output/136.jpg\n",
      "[11/23 14:51:06] ppdet.engine INFO: Detection bbox results save in output/137.jpg\n",
      "[11/23 14:51:06] ppdet.engine INFO: Detection bbox results save in output/138.jpg\n",
      "[11/23 14:51:06] ppdet.engine INFO: Detection bbox results save in output/139.jpg\n",
      "[11/23 14:51:06] ppdet.engine INFO: Detection bbox results save in output/140.jpg\n",
      "[11/23 14:51:06] ppdet.engine INFO: Detection bbox results save in output/141.jpg\n",
      "[11/23 14:51:06] ppdet.engine INFO: Detection bbox results save in output/142.jpg\n"
     ]
    }
   ],
   "source": [
    "!CUDA_VISIBLE_DEVICES=0 \r\n",
    "!python tools/infer.py -c configs/ppyoloe/ppyoloe_plus_crn_l_80e_coco.yml \\\r\n",
    "        -o weights=https://paddledet.bj.bcebos.com/models/ppyoloe_plus_crn_l_80e_coco.pdparams \\\r\n",
    "        --infer_dir=test --draw_threshold=0.4 \\\r\n",
    "        --save_results=True"
   ]
  },
  {
   "cell_type": "code",
   "execution_count": 53,
   "metadata": {
    "collapsed": false
   },
   "outputs": [
    {
     "data": {
      "text/plain": [
       "{'image_id': 0,\n",
       " 'category_id': 1,\n",
       " 'bbox': [299.0711975097656,\n",
       "  562.5804443359375,\n",
       "  25.186737060546875,\n",
       "  62.07989501953125],\n",
       " 'score': 0.8815357685089111}"
      ]
     },
     "execution_count": 53,
     "metadata": {},
     "output_type": "execute_result"
    }
   ],
   "source": [
    "import json\r\n",
    "# 读取Json\r\n",
    "path = 'output/bbox.json'\r\n",
    "with open(path, 'r') as f:\r\n",
    "    data = json.load(f)\r\n",
    "data[0]"
   ]
  },
  {
   "cell_type": "code",
   "execution_count": 54,
   "metadata": {
    "collapsed": false
   },
   "outputs": [],
   "source": [
    "# 读取id为i，阈值大于0.45的框框\r\n",
    "def getKK(data, id, threshold):\r\n",
    "    res = []\r\n",
    "    for d in data:\r\n",
    "        if d['image_id'] == id and d['score'] > threshold:\r\n",
    "            res.append(d)\r\n",
    "    return res"
   ]
  },
  {
   "cell_type": "code",
   "execution_count": 101,
   "metadata": {
    "collapsed": false
   },
   "outputs": [],
   "source": [
    "# 计算两个框框的中心点距离\r\n",
    "def caldistance(d1, d2):\r\n",
    "    # print(d1)\r\n",
    "\r\n",
    "    h1 = d1['bbox'][0]\r\n",
    "    w1 = d1['bbox'][1]\r\n",
    "    h2 = d2['bbox'][0]\r\n",
    "    w2 = d2['bbox'][1]\r\n",
    "    \r\n",
    "    return (h2 - h1) ** 2 + (w2 - w1) ** 2\r\n",
    "\r\n",
    "# 计算一个框框和一群框框的最短中心点距离\r\n",
    "def finmindis(d, data):\r\n",
    "    mindis = 2500\r\n",
    "    mind = None\r\n",
    "    for d1 in data:\r\n",
    "        dis = caldistance(d, d1)\r\n",
    "        if dis < mindis:\r\n",
    "            mindis = dis\r\n",
    "            mind = d1 \r\n",
    "    return mind"
   ]
  },
  {
   "cell_type": "code",
   "execution_count": 102,
   "metadata": {
    "collapsed": false
   },
   "outputs": [],
   "source": [
    "# 初始化\r\n",
    "def initDL(data):\r\n",
    "    DL = []\r\n",
    "    for d in data:\r\n",
    "        DL.append([d])\r\n",
    "    return DL\r\n",
    "\r\n",
    "# 抽取最后一位\r\n",
    "def lastDL(DL):\r\n",
    "    data = []\r\n",
    "    for i in range(0, len(DL)):\r\n",
    "        data.append(DL[i][-1])\r\n",
    "    return data\r\n",
    "\r\n",
    "# 更新DL\r\n",
    "def updateDL(DL, data):\r\n",
    "    for i in range(0, len(DL)):\r\n",
    "        if data[i] is None: continue\r\n",
    "        DL[i].append(data[i])\r\n",
    "    return DL"
   ]
  },
  {
   "cell_type": "code",
   "execution_count": 103,
   "metadata": {
    "collapsed": false
   },
   "outputs": [
    {
     "name": "stdout",
     "output_type": "stream",
     "text": [
      "25\n"
     ]
    }
   ],
   "source": [
    "import tqdm\r\n",
    "# 找0 初始化\r\n",
    "DL = initDL(getKK(data, 0, 0.45))\r\n",
    "print(len(DL))\r\n",
    "for i in range(1, 143):\r\n",
    "    # 抽取出最后一个\r\n",
    "    ddl = lastDL(DL)\r\n",
    "    # print(len(ddl))\r\n",
    "    # 找到下一帧的预测结果\r\n",
    "    idata = getKK(data, i, 0.45)\r\n",
    "    # print('A', len(idata))\r\n",
    "    calres = []\r\n",
    "    for ii in range(0, len(ddl)):\r\n",
    "        try:\r\n",
    "            calres.append(finmindis(ddl[ii], idata))\r\n",
    "        except:\r\n",
    "            print(i, ii)\r\n",
    "    \r\n",
    "    updateDL(DL, calres)"
   ]
  },
  {
   "cell_type": "code",
   "execution_count": 104,
   "metadata": {
    "collapsed": false
   },
   "outputs": [
    {
     "data": {
      "text/plain": [
       "True"
      ]
     },
     "execution_count": 104,
     "metadata": {},
     "output_type": "execute_result"
    }
   ],
   "source": [
    "img = cv2.imread('test/0.jpg')\r\n",
    "for k in range(0, 25):\r\n",
    "    for i in DL[k]:\r\n",
    "        cv2.circle(img=img, center=(int(i['bbox'][0]), int(i['bbox'][1])),radius=3, color=(0,0,255))\r\n",
    "cv2.imwrite('test.jpg', img)"
   ]
  },
  {
   "cell_type": "code",
   "execution_count": 105,
   "metadata": {
    "collapsed": false
   },
   "outputs": [
    {
     "data": {
      "text/plain": [
       "{'image_id': 1,\n",
       " 'category_id': 1,\n",
       " 'bbox': [299.0658264160156,\n",
       "  562.5985107421875,\n",
       "  25.187347412109375,\n",
       "  62.06268310546875],\n",
       " 'score': 0.8816330432891846}"
      ]
     },
     "execution_count": 105,
     "metadata": {},
     "output_type": "execute_result"
    }
   ],
   "source": [
    "DL[0][1]"
   ]
  },
  {
   "cell_type": "code",
   "execution_count": 106,
   "metadata": {
    "collapsed": false
   },
   "outputs": [
    {
     "name": "stdout",
     "output_type": "stream",
     "text": [
      "143\n",
      "116\n",
      "143\n",
      "143\n",
      "97\n",
      "143\n",
      "135\n",
      "90\n",
      "96\n",
      "123\n",
      "141\n",
      "143\n",
      "143\n",
      "122\n",
      "143\n",
      "140\n",
      "141\n",
      "129\n",
      "135\n",
      "143\n",
      "123\n",
      "143\n",
      "143\n",
      "137\n",
      "128\n"
     ]
    },
    {
     "data": {
      "text/plain": [
       "True"
      ]
     },
     "execution_count": 106,
     "metadata": {},
     "output_type": "execute_result"
    }
   ],
   "source": [
    "img = cv2.imread('test/0.jpg')\r\n",
    "for k in range(0, 25):\r\n",
    "    print(len(DL[k]))\r\n",
    "    i = DL[k][0]\r\n",
    "    ii = DL[k][-1]\r\n",
    "    # print(int(i['bbox'][0]))\r\n",
    "    cv2.arrowedLine(img,(int(i['bbox'][0]), int(i['bbox'][1])), (int(ii['bbox'][0]), int(ii['bbox'][1])), (0,0,255),2,0,0,0.2)\r\n",
    "cv2.imwrite('test1.jpg', img)"
   ]
  },
  {
   "cell_type": "code",
   "execution_count": 111,
   "metadata": {
    "collapsed": false
   },
   "outputs": [],
   "source": [
    "import cv2\r\n",
    "import imageio\r\n",
    " \r\n",
    "# 更换cap的地址\r\n",
    "# cap = cv2.VideoCapture('PaddleDetection/output/1.mp4')\r\n",
    "image_lst = []\r\n",
    " \r\n",
    "for i in range(0, 143):\r\n",
    "    frame = cv2.imread('test/%i.jpg' % i)\r\n",
    "    if frame is None:\r\n",
    "        break\r\n",
    " \r\n",
    "    frame_rgb = cv2.cvtColor(frame, cv2.COLOR_BGR2RGB)\r\n",
    "    frame_rgb = cv2.resize(frame_rgb, (480,360))\r\n",
    "    image_lst.append(frame_rgb)\r\n",
    " \r\n",
    "cap.release()\r\n",
    "cv2.destroyAllWindows()\r\n",
    " \r\n",
    "# 更换gif的名称\r\n",
    "imageio.mimsave('2.gif', image_lst, fps=30)"
   ]
  },
  {
   "cell_type": "markdown",
   "metadata": {
    "collapsed": false
   },
   "source": []
  }
 ],
 "metadata": {
  "kernelspec": {
   "display_name": "Python 3",
   "language": "python",
   "name": "py35-paddle1.2.0"
  },
  "language_info": {
   "codemirror_mode": {
    "name": "ipython",
    "version": 3
   },
   "file_extension": ".py",
   "mimetype": "text/x-python",
   "name": "python",
   "nbconvert_exporter": "python",
   "pygments_lexer": "ipython3",
   "version": "3.7.4"
  }
 },
 "nbformat": 4,
 "nbformat_minor": 1
}
